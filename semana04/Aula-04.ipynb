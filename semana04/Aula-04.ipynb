{
 "cells": [
  {
   "cell_type": "markdown",
   "metadata": {},
   "source": [
    "# Módulo de Programação Python: Introdução à Linguagem\n",
    "\n",
    "# Quarto Encontro\n",
    "\n",
    "## Apresentação de Python: Programação Oreintada a Objetos em Python.\n",
    "\n",
    "<img align=\"center\" style=\"padding-right:10px;\" src=\"Figuras/aula-04_fig_01.png\">"
   ]
  },
  {
   "cell_type": "markdown",
   "metadata": {},
   "source": [
    "__Objetivo__:  Introduzir conceitos de Programação Orientada a Objetos (__POO__). Introduzir o tratamento de exceções como uma aplicação de __POO__ aplicado ao tratamento de erros e falhas em tempo de execução."
   ]
  },
  {
   "cell_type": "markdown",
   "metadata": {},
   "source": [
    "### Programação Orientada a Objetos\n",
    "\n",
    "O termo Programação Orientada a Objetos (__POO__) gera algum desconforto ainda entre muitos programadores. De forma geral objetos são algo tangível que podemos sentir, tocar e manipular. A definição de objeto, em termos de software, não é muito diferente. Objetos não são coisas tangíveis, mas são implementações de modelos de algo que pode fazer certas coisas e fazer com que certas coisas sejam feitas com eles. Formalmente, um objeto é uma coleção de dados e ações associados aos mesmos. O uso do conceito de objetos em programação envolve uma seria de etapas que estão estreitamente relacionadas. De fato, análise, desenho e programação são estágios do desenvolvimento de software, de forma geral. Quando associamos a eles o termo \"orientado a objetos\" simplesmente estamos especificando qual estilo de desenvolvimento de software está sendo seguido.\n",
    "\n",
    "A análise orientada a objetos (__AOO__) se refere ao processo de analisar um problema, sistema ou tarefa, que alguém deseja transformar em um aplicativo, e identificar os objetos e interações entre os mesmos. A etapa de análise é sobre \"_o que precisa ser feito_\". Já o desenho orientado a objetos (__DOO__) envolve o processo de converter os requisitos, levantados durante a etapa de análise, em um conjunto de especificações para implementação. O designer deve nomear os objetos, definir os comportamentos e especificar formalmente quais objetos podem ativar comportamentos específicos em outros objetos. O estágio de desenho é sobre \"_como as coisas devem ser feitas_\".\n",
    "\n",
    "Finalmente, a __POO__ define o processo de converter o desenho, já definido, em um programa funcional que faz exatamente o que o cliente solicitou originalmente. Neste curso abordaremos apenas os aspectos relacionados a como executar a etapa de **POO**, utilizando os recursos disponíveis na linguagem __Python 3__"
   ]
  },
  {
   "cell_type": "markdown",
   "metadata": {},
   "source": [
    "#### Objetos e Classes\n",
    "\n",
    "Antes de começar temos que deixar dois conceitos fundamentais bem esclarecidos. Como apresentado anteriormente, objetos são conjuntos de dados e ações associadas aos mesmos. Mas na prática temos tipos diferentes de objetos. Quando falamos em telefones celulares, estamos falando de um conjunto de tipos de objetos que podem ser classificados como dispositivos móveis. Entretanto um celular é um objeto diferente de outro celular do mesmo modelo e fabricante. Já um celular e um *tablet* não são apenas objetos diferentes mas tipos de objetos diferentes, ainda que os dois sejam feitos pelo mesmo fabricante. Neste casso estamos falando de classes de objetos.\n",
    "\n",
    "Qual é a diferença então entre objetos e classes? Classes descrevem objetos, ou seja,elas são como plantas que permitem criar objetos. Você pode ter três celulares do mesmo modelo e fabricante na sua frente. Cada celular é um objeto distinto, mas os três têm os atributos e comportamentos associados a uma classe: a classe que permite \"construir\" exemplares daquele modelo de celular. Cada celular é um objeto específico, uma instância feita a partir de uma classe. Utilizaremos então, daqui para frente, o termo instanciar para nos referir ao fato de criar um objeto, ao qual também podemos nos referir como instância."
   ]
  },
  {
   "cell_type": "markdown",
   "metadata": {},
   "source": [
    "#### Um exemplo simples\n",
    "\n",
    "<img align=\"center\" style=\"padding-right:10px;\" src=\"Figuras/aula-04_fig_02.jpg\">\n",
    "\n",
    "### Objetos em Python\n",
    "\n",
    "Vamos começar fazendo uma apresentação inicial dos recursos, em termos de sintaxes, disponíveis em  __Python__, que permite criar programas orientados a objetos. O primeiro passo é então como criar classes. \n",
    "\n",
    "#### Criando Classes em Python\n",
    "\n",
    "A declaração de uma classe em __Python__ é um processo, em principio, simples. Se utiliza a palavra reservada ``class`` seguido do nome da classe e de ``:`` para iniciar o bloco sintáctico com a implementação da mesma. "
   ]
  },
  {
   "cell_type": "code",
   "execution_count": 6,
   "metadata": {},
   "outputs": [],
   "source": [
    "# Criando uma classe\n",
    "class MinhaPrimeiraClasse:\n",
    "    pass # implementação do corpo da classe"
   ]
  },
  {
   "cell_type": "markdown",
   "metadata": {},
   "source": [
    "A classe anterior já pode ser utilizada para criar objetos derivados dela, mesmo sem contar ainda com uma definição apropriada da sua implementação. Os objetos ou instâncias de uma classe são criados e, eventualmente, atribuídos a uma varável de forma bastante intuitiva. veja o exemplo a seguir:"
   ]
  },
  {
   "cell_type": "code",
   "execution_count": 7,
   "metadata": {},
   "outputs": [
    {
     "name": "stdout",
     "output_type": "stream",
     "text": [
      "<__main__.MinhaPrimeiraClasse object at 0x7fd1181d4950>\n",
      "<class '__main__.MinhaPrimeiraClasse'>\n"
     ]
    }
   ],
   "source": [
    "# Criando um instância da classe (objeto)\n",
    "meuPrimeiroObjeto = MinhaPrimeiraClasse()\n",
    "# Uma outra instância \n",
    "outroObjeto = MinhaPrimeiraClasse()\n",
    "print(meuPrimeiroObjeto)\n",
    "print(type(meuPrimeiroObjeto))\n"
   ]
  },
  {
   "cell_type": "markdown",
   "metadata": {},
   "source": [
    "Ainda que sem uma implementação formal, as instâncias criadas já podem ser utilizadas.\n",
    "\n",
    "#### Adicionando atributos na classe\n",
    "\n",
    "Mas, se o conceito de objetos envolve dados, como armazenar informação nos objetos que criamos? Vamos desenvolver uma classe simples para representar ponto no plano cartesiano pelas suas coordenadas _x_ e _y_."
   ]
  },
  {
   "cell_type": "code",
   "execution_count": 4,
   "metadata": {},
   "outputs": [],
   "source": [
    "# Criamos a classe Ponto sem corpo\n",
    "class Ponto:\n",
    "    pass"
   ]
  },
  {
   "cell_type": "code",
   "execution_count": 3,
   "metadata": {},
   "outputs": [
    {
     "ename": "NameError",
     "evalue": "name 'Ponto' is not defined",
     "output_type": "error",
     "traceback": [
      "\u001b[0;31m---------------------------------------------------------------------------\u001b[0m",
      "\u001b[0;31mNameError\u001b[0m                                 Traceback (most recent call last)",
      "\u001b[1;32m/home/danilo-conceicao-santos/Documentos/Residencia/python/semana04/Aula-04.ipynb Cell 11\u001b[0m in \u001b[0;36m2\n\u001b[1;32m      <a href='vscode-notebook-cell:/home/danilo-conceicao-santos/Documentos/Residencia/python/semana04/Aula-04.ipynb#X13sZmlsZQ%3D%3D?line=0'>1</a>\u001b[0m \u001b[39m# Podemos criar duas instâncias (objetos) desta classe\u001b[39;00m\n\u001b[0;32m----> <a href='vscode-notebook-cell:/home/danilo-conceicao-santos/Documentos/Residencia/python/semana04/Aula-04.ipynb#X13sZmlsZQ%3D%3D?line=1'>2</a>\u001b[0m p1 \u001b[39m=\u001b[39m Ponto()\n\u001b[1;32m      <a href='vscode-notebook-cell:/home/danilo-conceicao-santos/Documentos/Residencia/python/semana04/Aula-04.ipynb#X13sZmlsZQ%3D%3D?line=2'>3</a>\u001b[0m p2 \u001b[39m=\u001b[39m Ponto()\n",
      "\u001b[0;31mNameError\u001b[0m: name 'Ponto' is not defined"
     ]
    }
   ],
   "source": [
    "# Podemos criar duas instâncias (objetos) desta classe\n",
    "p1 = Ponto()\n",
    "p2 = Ponto()"
   ]
  },
  {
   "cell_type": "code",
   "execution_count": 8,
   "metadata": {},
   "outputs": [
    {
     "ename": "NameError",
     "evalue": "name 'p1' is not defined",
     "output_type": "error",
     "traceback": [
      "\u001b[0;31m---------------------------------------------------------------------------\u001b[0m",
      "\u001b[0;31mNameError\u001b[0m                                 Traceback (most recent call last)",
      "\u001b[1;32m/home/danilo-conceicao-santos/Documentos/Residencia/python/semana04/Aula-04.ipynb Cell 12\u001b[0m in \u001b[0;36m2\n\u001b[1;32m      <a href='vscode-notebook-cell:/home/danilo-conceicao-santos/Documentos/Residencia/python/semana04/Aula-04.ipynb#X14sZmlsZQ%3D%3D?line=0'>1</a>\u001b[0m \u001b[39m# Agora podemos adicionar atributos às instâncias\u001b[39;00m\n\u001b[0;32m----> <a href='vscode-notebook-cell:/home/danilo-conceicao-santos/Documentos/Residencia/python/semana04/Aula-04.ipynb#X14sZmlsZQ%3D%3D?line=1'>2</a>\u001b[0m p1\u001b[39m.\u001b[39mx \u001b[39m=\u001b[39m \u001b[39m1.0\u001b[39m\n\u001b[1;32m      <a href='vscode-notebook-cell:/home/danilo-conceicao-santos/Documentos/Residencia/python/semana04/Aula-04.ipynb#X14sZmlsZQ%3D%3D?line=2'>3</a>\u001b[0m p1\u001b[39m.\u001b[39my \u001b[39m=\u001b[39m \u001b[39m1.0\u001b[39m\n\u001b[1;32m      <a href='vscode-notebook-cell:/home/danilo-conceicao-santos/Documentos/Residencia/python/semana04/Aula-04.ipynb#X14sZmlsZQ%3D%3D?line=4'>5</a>\u001b[0m p2\u001b[39m.\u001b[39mx \u001b[39m=\u001b[39m \u001b[39m-\u001b[39m\u001b[39m1.0\u001b[39m\n",
      "\u001b[0;31mNameError\u001b[0m: name 'p1' is not defined"
     ]
    }
   ],
   "source": [
    "# Agora podemos adicionar atributos às instâncias\n",
    "p1.x = 1.0\n",
    "p1.y = 1.0\n",
    "\n",
    "p2.x = -1.0\n",
    "p2.y = -1.0"
   ]
  },
  {
   "cell_type": "code",
   "execution_count": 9,
   "metadata": {},
   "outputs": [
    {
     "ename": "NameError",
     "evalue": "name 'p1' is not defined",
     "output_type": "error",
     "traceback": [
      "\u001b[0;31m---------------------------------------------------------------------------\u001b[0m",
      "\u001b[0;31mNameError\u001b[0m                                 Traceback (most recent call last)",
      "\u001b[1;32m/home/danilo-conceicao-santos/Documentos/Residencia/python/semana04/Aula-04.ipynb Cell 13\u001b[0m in \u001b[0;36m2\n\u001b[1;32m      <a href='vscode-notebook-cell:/home/danilo-conceicao-santos/Documentos/Residencia/python/semana04/Aula-04.ipynb#X15sZmlsZQ%3D%3D?line=0'>1</a>\u001b[0m \u001b[39m# Veja coo acessar os atributos de um objeto\u001b[39;00m\n\u001b[0;32m----> <a href='vscode-notebook-cell:/home/danilo-conceicao-santos/Documentos/Residencia/python/semana04/Aula-04.ipynb#X15sZmlsZQ%3D%3D?line=1'>2</a>\u001b[0m \u001b[39mprint\u001b[39m(\u001b[39m\"\u001b[39m\u001b[39mp1 = (\u001b[39m\u001b[39m\"\u001b[39m, p1\u001b[39m.\u001b[39mx, \u001b[39m\"\u001b[39m\u001b[39m, \u001b[39m\u001b[39m\"\u001b[39m, p1\u001b[39m.\u001b[39my, \u001b[39m\"\u001b[39m\u001b[39m)\u001b[39m\u001b[39m\"\u001b[39m)\n\u001b[1;32m      <a href='vscode-notebook-cell:/home/danilo-conceicao-santos/Documentos/Residencia/python/semana04/Aula-04.ipynb#X15sZmlsZQ%3D%3D?line=2'>3</a>\u001b[0m \u001b[39mprint\u001b[39m(\u001b[39m\"\u001b[39m\u001b[39mp2 = (\u001b[39m\u001b[39m\"\u001b[39m, p2\u001b[39m.\u001b[39mx, \u001b[39m\"\u001b[39m\u001b[39m, \u001b[39m\u001b[39m\"\u001b[39m, p2\u001b[39m.\u001b[39my, \u001b[39m\"\u001b[39m\u001b[39m)\u001b[39m\u001b[39m\"\u001b[39m)\n",
      "\u001b[0;31mNameError\u001b[0m: name 'p1' is not defined"
     ]
    }
   ],
   "source": [
    "# Veja coo acessar os atributos de um objeto\n",
    "print(\"p1 = (\", p1.x, \", \", p1.y, \")\")\n",
    "print(\"p2 = (\", p2.x, \", \", p2.y, \")\")"
   ]
  },
  {
   "cell_type": "markdown",
   "metadata": {},
   "source": [
    "Repare que, no exemplo anterior, os  atributos das instâncias da classe foram definidos após as mesmas serem criadas. Este comportamento peculiar está mais relacionado com a característica de __Python__ e o tratamento de tipos e variáveis do que com POO propriamente. \n",
    "\n",
    "#### Fazendo a classe trabalhar\n",
    "\n",
    "Agora vamos a associar alguma ação que permita modificar de alguma forma os atributos, ou seja o estado  de um objeto da classe."
   ]
  },
  {
   "cell_type": "code",
   "execution_count": 10,
   "metadata": {},
   "outputs": [],
   "source": [
    "class Ponto:\n",
    "\n",
    "    def naOrigem(self): #Método da classe\n",
    "        self.x = 0.0  #atributos da instância\n",
    "        self.y = 0.0"
   ]
  },
  {
   "cell_type": "code",
   "execution_count": 11,
   "metadata": {},
   "outputs": [
    {
     "name": "stdout",
     "output_type": "stream",
     "text": [
      "'Ponto' object has no attribute 'x'\n"
     ]
    }
   ],
   "source": [
    "# Agora criamos uma instância da nova classe\n",
    "p1 = Ponto()\n",
    "# Repare que este objeto ainda não tem atributos\n",
    "try:\n",
    "    print(\"p1 = (\", p1.x, \", \", p1.y, \")\")\n",
    "except Exception as e:\n",
    "    print(e)"
   ]
  },
  {
   "cell_type": "code",
   "execution_count": 12,
   "metadata": {},
   "outputs": [
    {
     "name": "stdout",
     "output_type": "stream",
     "text": [
      "p1 = ( 0.0 ,  0.0 )\n"
     ]
    }
   ],
   "source": [
    "# Agora vamos pedir para colocar o ponto na origem \n",
    "p1.naOrigem()\n",
    "try:\n",
    "    print(\"p1 = (\", p1.x, \", \", p1.y, \")\")\n",
    "except Exception as e:\n",
    "    print(e)"
   ]
  },
  {
   "cell_type": "markdown",
   "metadata": {},
   "source": [
    "Novamente os atributos da instância foram declarados após a criarmos o objeto ``p1``. Mas desta vez eles foram declarados por uma função definida dentro da classe como um método. A função ``naOrigem()`` que implementamos na classe ``Ponto``, introduz uma funcionalidade na mesma. Ela tem, basicamente, a mesma sintaxes de uma função em __Python__. A principal diferença para uma função simples é que os métodos de uma classe incluem na sua lista de parâmetros e como primeiro parâmetros o ``self``.\n",
    "\n",
    "O parâmetro ``self`` é simplesmente uma referência ao objeto no qual o método está sendo chamado. Podemos acessar atributos e métodos desse objeto como se fosse outro objeto. É exatamente isso que fazemos dentro do método ``reiniciar`` quando configuramos os atributos ``x`` e ``y`` do próprio objeto. A referência ``self`` permite distinguir uma referência a um objeto local, uma variável ou uma função, de um objeto da instância da classe, um atributo ou um método. Reparem que quando chamamos o método do objeto  ``p`` não adicionamos nenhum parâmetro. __Python__ gerencia isso de forma automática adicionando a referência ao objeto como primeiro argumento na chamada de qualquer método de um objeto. Veja no exemplo a seguir:"
   ]
  },
  {
   "cell_type": "code",
   "execution_count": 13,
   "metadata": {},
   "outputs": [
    {
     "name": "stdout",
     "output_type": "stream",
     "text": [
      "'Ponto' object has no attribute 'distancia'\n",
      "p1 = ( 0.0 ,  0.0 )  - distância =  0.0\n"
     ]
    }
   ],
   "source": [
    "# Vamos modificar o método\n",
    "class Ponto:\n",
    "    \n",
    "    def naOrigem(self): #Método da classe\n",
    "        self.x = 0.0  #atributos da instância\n",
    "        self.y = 0.0\n",
    "        # distância não é um atributo, mas uma variável local\n",
    "        distancia = Ponto.distOrigem(self.x, self.y)\n",
    "\n",
    "    def distOrigem(x, y): #Método da classe\n",
    "        return (x**2 + y**2)**0.5\n",
    "\n",
    "\n",
    "# Agora criamos uma instância da nova classe\n",
    "p1 = Ponto()\n",
    "p1.naOrigem()\n",
    "try:\n",
    "    print(\"p1 = (\", p1.x, \", \", p1.y, \")\", \" - distância = \", p1.distancia)\n",
    "except Exception as e:\n",
    "    print(e)\n",
    "\n",
    "try:\n",
    "    print(\"p1 = (\", p1.x, \", \", p1.y, \")\", \" - distância = \", Ponto.distOrigem(p1.x, p1.y))\n",
    "except Exception as e:\n",
    "    print(e)"
   ]
  }
 ],
 "metadata": {
  "kernelspec": {
   "display_name": "pyTIC18",
   "language": "python",
   "name": "python3"
  },
  "language_info": {
   "codemirror_mode": {
    "name": "ipython",
    "version": 3
   },
   "file_extension": ".py",
   "mimetype": "text/x-python",
   "name": "python",
   "nbconvert_exporter": "python",
   "pygments_lexer": "ipython3",
   "version": "3.11.4"
  }
 },
 "nbformat": 4,
 "nbformat_minor": 2
}

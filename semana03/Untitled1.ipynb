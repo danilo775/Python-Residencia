{
 "cells": [
  {
   "cell_type": "code",
   "execution_count": 1,
   "id": "71d02c09",
   "metadata": {},
   "outputs": [
    {
     "name": "stdout",
     "output_type": "stream",
     "text": [
      "x Global =  99\n",
      "Chamando à funcãoX()\n",
      "x Local da funçãoX:  11\n",
      "Chamando à funcãoY()\n",
      "x Local da funçãoY:  22\n",
      "Mas x Local da funçãoX continua =  11\n",
      "E x Global continua =  99\n"
     ]
    }
   ],
   "source": [
    "# Escopo global\n",
    "x = 99\n",
    "\n",
    "def funçãoX():\n",
    "    #Escopo local\n",
    "    x = 11\n",
    "    \n",
    "    def funçãoY():\n",
    "        #Escopo local\n",
    "        x = 22\n",
    "        print(\"x Local da funçãoY: \", x)\n",
    "    \n",
    "    print(\"x Local da funçãoX: \", x)\n",
    "    print(\"Chamando à funcãoY()\")\n",
    "    funçãoY()\n",
    "    print(\"Mas x Local da funçãoX continua = \", x)\n",
    "\n",
    "print(\"x Global = \", x)\n",
    "print(\"Chamando à funcãoX()\")\n",
    "funçãoX()\n",
    "print(\"E x Global continua = \", x)"
   ]
  },
  {
   "cell_type": "code",
   "execution_count": null,
   "id": "de028229",
   "metadata": {},
   "outputs": [],
   "source": []
  }
 ],
 "metadata": {
  "kernelspec": {
   "display_name": "Python 3 (ipykernel)",
   "language": "python",
   "name": "python3"
  },
  "language_info": {
   "codemirror_mode": {
    "name": "ipython",
    "version": 3
   },
   "file_extension": ".py",
   "mimetype": "text/x-python",
   "name": "python",
   "nbconvert_exporter": "python",
   "pygments_lexer": "ipython3",
   "version": "3.11.5"
  }
 },
 "nbformat": 4,
 "nbformat_minor": 5
}

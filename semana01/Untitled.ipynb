{
 "cells": [
  {
   "cell_type": "code",
   "execution_count": 11,
   "id": "924f55c4",
   "metadata": {},
   "outputs": [
    {
     "name": "stdout",
     "output_type": "stream",
     "text": [
      "Eu estou no Trabalho\n",
      "EU ESTOU NO TRABALHO\n",
      "eu estou no trabalho\n",
      "Eu Estou No Trabalho\n"
     ]
    },
    {
     "data": {
      "text/plain": [
       "True"
      ]
     },
     "execution_count": 11,
     "metadata": {},
     "output_type": "execute_result"
    }
   ],
   "source": [
    "texto= \"Eu estou no Trabalho\"\n",
    "texto_maior =texto.upper()\n",
    "texto_menor = texto.lower()\n",
    "texto_titulo = texto.title()\n",
    "print(texto)\n",
    "print(texto_maior)\n",
    "print(texto_menor)\n",
    "print(texto_titulo)\n",
    "\n",
    "texto_maior.islower()\n",
    "texto_maior.lower().islower()"
   ]
  },
  {
   "cell_type": "code",
   "execution_count": 13,
   "id": "fce01d36",
   "metadata": {},
   "outputs": [
    {
     "name": "stdout",
     "output_type": "stream",
     "text": [
      "vou invertir na empresa itau que possui 50 anos de existencia\n",
      "vou emvertir na empresa itau que possui 50 anos de existencia\n"
     ]
    }
   ],
   "source": [
    "empresa = \"itau\"\n",
    "anos = \"50\"\n",
    "anos_em_numeros= 50\n",
    "\n",
    "print(\"vou invertir na empresa \" + empresa + \" que possui \" + anos + \" anos de existencia\")\n",
    "print(f\"vou emvertir na empresa {empresa} que possui {anos} anos de existencia\")\n",
    "\n",
    "fundacao =2023\n",
    "print(f\"vou emvertir na empresa {empresa} que possui {anos} anos e foi fund\")"
   ]
  },
  {
   "cell_type": "code",
   "execution_count": null,
   "id": "73808b9c",
   "metadata": {},
   "outputs": [],
   "source": []
  }
 ],
 "metadata": {
  "kernelspec": {
   "display_name": "Python 3 (ipykernel)",
   "language": "python",
   "name": "python3"
  },
  "language_info": {
   "codemirror_mode": {
    "name": "ipython",
    "version": 3
   },
   "file_extension": ".py",
   "mimetype": "text/x-python",
   "name": "python",
   "nbconvert_exporter": "python",
   "pygments_lexer": "ipython3",
   "version": "3.11.5"
  }
 },
 "nbformat": 4,
 "nbformat_minor": 5
}

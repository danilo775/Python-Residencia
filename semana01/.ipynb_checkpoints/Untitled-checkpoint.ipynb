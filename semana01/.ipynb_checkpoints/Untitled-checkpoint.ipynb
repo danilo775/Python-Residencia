{
 "cells": [
  {
   "cell_type": "code",
   "execution_count": 7,
   "id": "dd322f31",
   "metadata": {},
   "outputs": [
    {
     "name": "stdout",
     "output_type": "stream",
     "text": [
      "Eu estou no Trabalho\n",
      "EU ESTOU NO TRABALHO\n",
      "eu estou no trabalho\n",
      "Eu Estou No Trabalho\n"
     ]
    },
    {
     "ename": "AttributeError",
     "evalue": "'str' object has no attribute 'isLower'",
     "output_type": "error",
     "traceback": [
      "\u001b[1;31m---------------------------------------------------------------------------\u001b[0m",
      "\u001b[1;31mAttributeError\u001b[0m                            Traceback (most recent call last)",
      "Cell \u001b[1;32mIn[7], line 10\u001b[0m\n\u001b[0;32m      7\u001b[0m \u001b[38;5;28mprint\u001b[39m(texto_menor)\n\u001b[0;32m      8\u001b[0m \u001b[38;5;28mprint\u001b[39m(texto_titulo)\n\u001b[1;32m---> 10\u001b[0m texto_maior\u001b[38;5;241m.\u001b[39misLower()\n",
      "\u001b[1;31mAttributeError\u001b[0m: 'str' object has no attribute 'isLower'"
     ]
    }
   ],
   "source": [
    "texto= \"Eu estou no Trabalho\"\n",
    "texto_maior =texto.upper()\n",
    "texto_menor = texto.lower()\n",
    "texto_titulo = texto.title()\n",
    "print(texto)\n",
    "print(texto_maior)\n",
    "print(texto_menor)\n",
    "print(texto_titulo)\n",
    "\n",
    "texto_maior.isLower()"
   ]
  },
  {
   "cell_type": "code",
   "execution_count": null,
   "id": "021d8f73",
   "metadata": {},
   "outputs": [],
   "source": []
  },
  {
   "cell_type": "code",
   "execution_count": null,
   "id": "2b6ef860",
   "metadata": {},
   "outputs": [],
   "source": []
  }
 ],
 "metadata": {
  "kernelspec": {
   "display_name": "Python 3 (ipykernel)",
   "language": "python",
   "name": "python3"
  },
  "language_info": {
   "codemirror_mode": {
    "name": "ipython",
    "version": 3
   },
   "file_extension": ".py",
   "mimetype": "text/x-python",
   "name": "python",
   "nbconvert_exporter": "python",
   "pygments_lexer": "ipython3",
   "version": "3.11.5"
  }
 },
 "nbformat": 4,
 "nbformat_minor": 5
}
